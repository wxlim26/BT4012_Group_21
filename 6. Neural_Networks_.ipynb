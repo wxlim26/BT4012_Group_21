{
 "cells": [
  {
   "cell_type": "markdown",
   "metadata": {},
   "source": [
    "<h1> Model 1: Logistic Regression"
   ]
  },
  {
   "cell_type": "markdown",
   "metadata": {},
   "source": [
    "<h2> Libraries"
   ]
  },
  {
   "cell_type": "code",
   "execution_count": 1,
   "metadata": {},
   "outputs": [],
   "source": [
    "import numpy as np\n",
    "import pandas as pd\n",
    "import matplotlib.pyplot as plt\n",
    "import seaborn as sns\n",
    "\n",
    "from sklearn.linear_model import LogisticRegression\n",
    "from sklearn.metrics import precision_score, recall_score, accuracy_score, f1_score\n",
    "from sklearn.metrics import classification_report, confusion_matrix\n",
    "\n",
    "from imblearn.over_sampling import RandomOverSampler\n",
    "\n",
    "from sklearn.preprocessing import StandardScaler\n",
    "from sklearn.neural_network import MLPClassifier\n",
    "from sklearn.model_selection import KFold, RandomizedSearchCV"
   ]
  },
  {
   "cell_type": "markdown",
   "metadata": {},
   "source": [
    "<h2> Loading the dataset"
   ]
  },
  {
   "cell_type": "code",
   "execution_count": 2,
   "metadata": {},
   "outputs": [
    {
     "data": {
      "text/html": [
       "<div>\n",
       "<style scoped>\n",
       "    .dataframe tbody tr th:only-of-type {\n",
       "        vertical-align: middle;\n",
       "    }\n",
       "\n",
       "    .dataframe tbody tr th {\n",
       "        vertical-align: top;\n",
       "    }\n",
       "\n",
       "    .dataframe thead th {\n",
       "        text-align: right;\n",
       "    }\n",
       "</style>\n",
       "<table border=\"1\" class=\"dataframe\">\n",
       "  <thead>\n",
       "    <tr style=\"text-align: right;\">\n",
       "      <th></th>\n",
       "      <th>marital_status</th>\n",
       "      <th>high_education_ind</th>\n",
       "      <th>address_change_ind</th>\n",
       "      <th>past_num_of_claims</th>\n",
       "      <th>witness_present_ind</th>\n",
       "      <th>liab_prct</th>\n",
       "      <th>policy_report_filed_ind</th>\n",
       "      <th>fraud</th>\n",
       "      <th>age</th>\n",
       "      <th>safety_grade</th>\n",
       "      <th>...</th>\n",
       "      <th>weekday</th>\n",
       "      <th>accident_site_Highway</th>\n",
       "      <th>accident_site_Local</th>\n",
       "      <th>accident_site_Parking Lot</th>\n",
       "      <th>channel_Broker</th>\n",
       "      <th>channel_Online</th>\n",
       "      <th>channel_Phone</th>\n",
       "      <th>claim_est_payout_category</th>\n",
       "      <th>age_of_vehicle_category</th>\n",
       "      <th>vehicle_price_category</th>\n",
       "    </tr>\n",
       "  </thead>\n",
       "  <tbody>\n",
       "    <tr>\n",
       "      <th>0</th>\n",
       "      <td>1</td>\n",
       "      <td>1</td>\n",
       "      <td>1</td>\n",
       "      <td>2</td>\n",
       "      <td>0</td>\n",
       "      <td>2</td>\n",
       "      <td>0</td>\n",
       "      <td>1</td>\n",
       "      <td>0</td>\n",
       "      <td>4</td>\n",
       "      <td>...</td>\n",
       "      <td>0</td>\n",
       "      <td>0</td>\n",
       "      <td>1</td>\n",
       "      <td>0</td>\n",
       "      <td>0</td>\n",
       "      <td>1</td>\n",
       "      <td>0</td>\n",
       "      <td>4</td>\n",
       "      <td>0</td>\n",
       "      <td>1</td>\n",
       "    </tr>\n",
       "    <tr>\n",
       "      <th>1</th>\n",
       "      <td>1</td>\n",
       "      <td>1</td>\n",
       "      <td>1</td>\n",
       "      <td>0</td>\n",
       "      <td>0</td>\n",
       "      <td>2</td>\n",
       "      <td>0</td>\n",
       "      <td>1</td>\n",
       "      <td>1</td>\n",
       "      <td>1</td>\n",
       "      <td>...</td>\n",
       "      <td>1</td>\n",
       "      <td>1</td>\n",
       "      <td>0</td>\n",
       "      <td>0</td>\n",
       "      <td>0</td>\n",
       "      <td>0</td>\n",
       "      <td>1</td>\n",
       "      <td>4</td>\n",
       "      <td>2</td>\n",
       "      <td>0</td>\n",
       "    </tr>\n",
       "    <tr>\n",
       "      <th>2</th>\n",
       "      <td>1</td>\n",
       "      <td>0</td>\n",
       "      <td>1</td>\n",
       "      <td>1</td>\n",
       "      <td>1</td>\n",
       "      <td>3</td>\n",
       "      <td>1</td>\n",
       "      <td>0</td>\n",
       "      <td>2</td>\n",
       "      <td>1</td>\n",
       "      <td>...</td>\n",
       "      <td>1</td>\n",
       "      <td>0</td>\n",
       "      <td>1</td>\n",
       "      <td>0</td>\n",
       "      <td>1</td>\n",
       "      <td>0</td>\n",
       "      <td>0</td>\n",
       "      <td>4</td>\n",
       "      <td>2</td>\n",
       "      <td>2</td>\n",
       "    </tr>\n",
       "    <tr>\n",
       "      <th>3</th>\n",
       "      <td>1</td>\n",
       "      <td>0</td>\n",
       "      <td>0</td>\n",
       "      <td>1</td>\n",
       "      <td>0</td>\n",
       "      <td>0</td>\n",
       "      <td>1</td>\n",
       "      <td>0</td>\n",
       "      <td>2</td>\n",
       "      <td>2</td>\n",
       "      <td>...</td>\n",
       "      <td>0</td>\n",
       "      <td>0</td>\n",
       "      <td>1</td>\n",
       "      <td>0</td>\n",
       "      <td>0</td>\n",
       "      <td>0</td>\n",
       "      <td>1</td>\n",
       "      <td>3</td>\n",
       "      <td>2</td>\n",
       "      <td>1</td>\n",
       "    </tr>\n",
       "    <tr>\n",
       "      <th>4</th>\n",
       "      <td>1</td>\n",
       "      <td>1</td>\n",
       "      <td>0</td>\n",
       "      <td>0</td>\n",
       "      <td>0</td>\n",
       "      <td>0</td>\n",
       "      <td>0</td>\n",
       "      <td>0</td>\n",
       "      <td>1</td>\n",
       "      <td>1</td>\n",
       "      <td>...</td>\n",
       "      <td>1</td>\n",
       "      <td>0</td>\n",
       "      <td>0</td>\n",
       "      <td>1</td>\n",
       "      <td>1</td>\n",
       "      <td>0</td>\n",
       "      <td>0</td>\n",
       "      <td>4</td>\n",
       "      <td>0</td>\n",
       "      <td>1</td>\n",
       "    </tr>\n",
       "  </tbody>\n",
       "</table>\n",
       "<p>5 rows × 22 columns</p>\n",
       "</div>"
      ],
      "text/plain": [
       "   marital_status  high_education_ind  address_change_ind  past_num_of_claims  \\\n",
       "0               1                   1                   1                   2   \n",
       "1               1                   1                   1                   0   \n",
       "2               1                   0                   1                   1   \n",
       "3               1                   0                   0                   1   \n",
       "4               1                   1                   0                   0   \n",
       "\n",
       "   witness_present_ind  liab_prct  policy_report_filed_ind  fraud  age  \\\n",
       "0                    0          2                        0      1    0   \n",
       "1                    0          2                        0      1    1   \n",
       "2                    1          3                        1      0    2   \n",
       "3                    0          0                        1      0    2   \n",
       "4                    0          0                        0      0    1   \n",
       "\n",
       "   safety_grade  ...  weekday  accident_site_Highway  accident_site_Local  \\\n",
       "0             4  ...        0                      0                    1   \n",
       "1             1  ...        1                      1                    0   \n",
       "2             1  ...        1                      0                    1   \n",
       "3             2  ...        0                      0                    1   \n",
       "4             1  ...        1                      0                    0   \n",
       "\n",
       "   accident_site_Parking Lot  channel_Broker  channel_Online  channel_Phone  \\\n",
       "0                          0               0               1              0   \n",
       "1                          0               0               0              1   \n",
       "2                          0               1               0              0   \n",
       "3                          0               0               0              1   \n",
       "4                          1               1               0              0   \n",
       "\n",
       "   claim_est_payout_category  age_of_vehicle_category  vehicle_price_category  \n",
       "0                          4                        0                       1  \n",
       "1                          4                        2                       0  \n",
       "2                          4                        2                       2  \n",
       "3                          3                        2                       1  \n",
       "4                          4                        0                       1  \n",
       "\n",
       "[5 rows x 22 columns]"
      ]
     },
     "execution_count": 2,
     "metadata": {},
     "output_type": "execute_result"
    }
   ],
   "source": [
    "train = pd.read_csv(\"data/train.csv\")\n",
    "train.head()"
   ]
  },
  {
   "cell_type": "code",
   "execution_count": 3,
   "metadata": {},
   "outputs": [
    {
     "data": {
      "text/html": [
       "<div>\n",
       "<style scoped>\n",
       "    .dataframe tbody tr th:only-of-type {\n",
       "        vertical-align: middle;\n",
       "    }\n",
       "\n",
       "    .dataframe tbody tr th {\n",
       "        vertical-align: top;\n",
       "    }\n",
       "\n",
       "    .dataframe thead th {\n",
       "        text-align: right;\n",
       "    }\n",
       "</style>\n",
       "<table border=\"1\" class=\"dataframe\">\n",
       "  <thead>\n",
       "    <tr style=\"text-align: right;\">\n",
       "      <th></th>\n",
       "      <th>marital_status</th>\n",
       "      <th>high_education_ind</th>\n",
       "      <th>address_change_ind</th>\n",
       "      <th>past_num_of_claims</th>\n",
       "      <th>witness_present_ind</th>\n",
       "      <th>liab_prct</th>\n",
       "      <th>policy_report_filed_ind</th>\n",
       "      <th>fraud</th>\n",
       "      <th>age</th>\n",
       "      <th>safety_grade</th>\n",
       "      <th>...</th>\n",
       "      <th>weekday</th>\n",
       "      <th>accident_site_Highway</th>\n",
       "      <th>accident_site_Local</th>\n",
       "      <th>accident_site_Parking Lot</th>\n",
       "      <th>channel_Broker</th>\n",
       "      <th>channel_Online</th>\n",
       "      <th>channel_Phone</th>\n",
       "      <th>claim_est_payout_category</th>\n",
       "      <th>age_of_vehicle_category</th>\n",
       "      <th>vehicle_price_category</th>\n",
       "    </tr>\n",
       "  </thead>\n",
       "  <tbody>\n",
       "    <tr>\n",
       "      <th>0</th>\n",
       "      <td>1</td>\n",
       "      <td>1</td>\n",
       "      <td>1</td>\n",
       "      <td>0</td>\n",
       "      <td>0</td>\n",
       "      <td>3</td>\n",
       "      <td>0</td>\n",
       "      <td>0</td>\n",
       "      <td>0</td>\n",
       "      <td>0</td>\n",
       "      <td>...</td>\n",
       "      <td>1</td>\n",
       "      <td>0</td>\n",
       "      <td>0</td>\n",
       "      <td>1</td>\n",
       "      <td>0</td>\n",
       "      <td>1</td>\n",
       "      <td>0</td>\n",
       "      <td>4</td>\n",
       "      <td>1</td>\n",
       "      <td>1</td>\n",
       "    </tr>\n",
       "    <tr>\n",
       "      <th>1</th>\n",
       "      <td>1</td>\n",
       "      <td>1</td>\n",
       "      <td>1</td>\n",
       "      <td>0</td>\n",
       "      <td>0</td>\n",
       "      <td>3</td>\n",
       "      <td>1</td>\n",
       "      <td>0</td>\n",
       "      <td>1</td>\n",
       "      <td>1</td>\n",
       "      <td>...</td>\n",
       "      <td>1</td>\n",
       "      <td>0</td>\n",
       "      <td>1</td>\n",
       "      <td>0</td>\n",
       "      <td>1</td>\n",
       "      <td>0</td>\n",
       "      <td>0</td>\n",
       "      <td>3</td>\n",
       "      <td>0</td>\n",
       "      <td>2</td>\n",
       "    </tr>\n",
       "    <tr>\n",
       "      <th>2</th>\n",
       "      <td>0</td>\n",
       "      <td>0</td>\n",
       "      <td>0</td>\n",
       "      <td>0</td>\n",
       "      <td>0</td>\n",
       "      <td>2</td>\n",
       "      <td>1</td>\n",
       "      <td>0</td>\n",
       "      <td>1</td>\n",
       "      <td>1</td>\n",
       "      <td>...</td>\n",
       "      <td>1</td>\n",
       "      <td>0</td>\n",
       "      <td>1</td>\n",
       "      <td>0</td>\n",
       "      <td>0</td>\n",
       "      <td>1</td>\n",
       "      <td>0</td>\n",
       "      <td>3</td>\n",
       "      <td>2</td>\n",
       "      <td>1</td>\n",
       "    </tr>\n",
       "    <tr>\n",
       "      <th>3</th>\n",
       "      <td>0</td>\n",
       "      <td>1</td>\n",
       "      <td>1</td>\n",
       "      <td>0</td>\n",
       "      <td>0</td>\n",
       "      <td>3</td>\n",
       "      <td>0</td>\n",
       "      <td>0</td>\n",
       "      <td>1</td>\n",
       "      <td>1</td>\n",
       "      <td>...</td>\n",
       "      <td>0</td>\n",
       "      <td>0</td>\n",
       "      <td>1</td>\n",
       "      <td>0</td>\n",
       "      <td>1</td>\n",
       "      <td>0</td>\n",
       "      <td>0</td>\n",
       "      <td>1</td>\n",
       "      <td>1</td>\n",
       "      <td>2</td>\n",
       "    </tr>\n",
       "    <tr>\n",
       "      <th>4</th>\n",
       "      <td>1</td>\n",
       "      <td>1</td>\n",
       "      <td>0</td>\n",
       "      <td>0</td>\n",
       "      <td>0</td>\n",
       "      <td>0</td>\n",
       "      <td>0</td>\n",
       "      <td>0</td>\n",
       "      <td>1</td>\n",
       "      <td>3</td>\n",
       "      <td>...</td>\n",
       "      <td>1</td>\n",
       "      <td>0</td>\n",
       "      <td>1</td>\n",
       "      <td>0</td>\n",
       "      <td>0</td>\n",
       "      <td>0</td>\n",
       "      <td>1</td>\n",
       "      <td>1</td>\n",
       "      <td>1</td>\n",
       "      <td>1</td>\n",
       "    </tr>\n",
       "  </tbody>\n",
       "</table>\n",
       "<p>5 rows × 22 columns</p>\n",
       "</div>"
      ],
      "text/plain": [
       "   marital_status  high_education_ind  address_change_ind  past_num_of_claims  \\\n",
       "0               1                   1                   1                   0   \n",
       "1               1                   1                   1                   0   \n",
       "2               0                   0                   0                   0   \n",
       "3               0                   1                   1                   0   \n",
       "4               1                   1                   0                   0   \n",
       "\n",
       "   witness_present_ind  liab_prct  policy_report_filed_ind  fraud  age  \\\n",
       "0                    0          3                        0      0    0   \n",
       "1                    0          3                        1      0    1   \n",
       "2                    0          2                        1      0    1   \n",
       "3                    0          3                        0      0    1   \n",
       "4                    0          0                        0      0    1   \n",
       "\n",
       "   safety_grade  ...  weekday  accident_site_Highway  accident_site_Local  \\\n",
       "0             0  ...        1                      0                    0   \n",
       "1             1  ...        1                      0                    1   \n",
       "2             1  ...        1                      0                    1   \n",
       "3             1  ...        0                      0                    1   \n",
       "4             3  ...        1                      0                    1   \n",
       "\n",
       "   accident_site_Parking Lot  channel_Broker  channel_Online  channel_Phone  \\\n",
       "0                          1               0               1              0   \n",
       "1                          0               1               0              0   \n",
       "2                          0               0               1              0   \n",
       "3                          0               1               0              0   \n",
       "4                          0               0               0              1   \n",
       "\n",
       "   claim_est_payout_category  age_of_vehicle_category  vehicle_price_category  \n",
       "0                          4                        1                       1  \n",
       "1                          3                        0                       2  \n",
       "2                          3                        2                       1  \n",
       "3                          1                        1                       2  \n",
       "4                          1                        1                       1  \n",
       "\n",
       "[5 rows x 22 columns]"
      ]
     },
     "execution_count": 3,
     "metadata": {},
     "output_type": "execute_result"
    }
   ],
   "source": [
    "test = pd.read_csv(\"data/test.csv\")\n",
    "test.head()"
   ]
  },
  {
   "cell_type": "markdown",
   "metadata": {},
   "source": [
    "<h5> Basic Information on the Dataset"
   ]
  },
  {
   "cell_type": "code",
   "execution_count": 4,
   "metadata": {},
   "outputs": [
    {
     "data": {
      "text/plain": [
       "(14254, 22)"
      ]
     },
     "execution_count": 4,
     "metadata": {},
     "output_type": "execute_result"
    }
   ],
   "source": [
    "train.shape\n"
   ]
  },
  {
   "cell_type": "code",
   "execution_count": 5,
   "metadata": {},
   "outputs": [
    {
     "data": {
      "text/plain": [
       "marital_status               int64\n",
       "high_education_ind           int64\n",
       "address_change_ind           int64\n",
       "past_num_of_claims           int64\n",
       "witness_present_ind          int64\n",
       "liab_prct                    int64\n",
       "policy_report_filed_ind      int64\n",
       "fraud                        int64\n",
       "age                          int64\n",
       "safety_grade                 int64\n",
       "annual_income_category       int64\n",
       "part_of_month                int64\n",
       "weekday                      int64\n",
       "accident_site_Highway        int64\n",
       "accident_site_Local          int64\n",
       "accident_site_Parking Lot    int64\n",
       "channel_Broker               int64\n",
       "channel_Online               int64\n",
       "channel_Phone                int64\n",
       "claim_est_payout_category    int64\n",
       "age_of_vehicle_category      int64\n",
       "vehicle_price_category       int64\n",
       "dtype: object"
      ]
     },
     "execution_count": 5,
     "metadata": {},
     "output_type": "execute_result"
    }
   ],
   "source": [
    "train.dtypes"
   ]
  },
  {
   "cell_type": "markdown",
   "metadata": {},
   "source": [
    "From the basic exploration above, we can see that the preprocessed train dataset has all features of type int64, which are ready for training models. "
   ]
  },
  {
   "cell_type": "markdown",
   "metadata": {},
   "source": [
    "<h2> Spliting Features and Targets"
   ]
  },
  {
   "cell_type": "code",
   "execution_count": 6,
   "metadata": {},
   "outputs": [],
   "source": [
    "X_train = train.drop('fraud', axis=1)\n",
    "y_train = train['fraud']"
   ]
  },
  {
   "cell_type": "code",
   "execution_count": 7,
   "metadata": {},
   "outputs": [],
   "source": [
    "X_test = test.drop('fraud', axis=1)\n",
    "y_test = test['fraud']"
   ]
  },
  {
   "cell_type": "markdown",
   "metadata": {},
   "source": [
    "<h2> Standard Scaling </h2><br>\n",
    "We will standardise all features using standard scaling so they are all of the same range. This is to minimise the effect of range on the model's perceived importance of a feature. "
   ]
  },
  {
   "cell_type": "code",
   "execution_count": 8,
   "metadata": {},
   "outputs": [],
   "source": [
    "scaler = StandardScaler()\n",
    "X_train = scaler.fit_transform(X_train)\n",
    "X_test = scaler.transform(X_test)"
   ]
  },
  {
   "cell_type": "markdown",
   "metadata": {},
   "source": [
    "<h2> Checking for Imbalance in Target Column of Train Dataset </h2><br>\n",
    "We will plot the distribution of the binary classes 0 and 1 in target column y_train to check if there is imbalance between the two classes. "
   ]
  },
  {
   "cell_type": "code",
   "execution_count": 9,
   "metadata": {},
   "outputs": [
    {
     "name": "stderr",
     "output_type": "stream",
     "text": [
      "/Library/Frameworks/Python.framework/Versions/3.9/lib/python3.9/site-packages/seaborn/_decorators.py:36: FutureWarning: Pass the following variable as a keyword arg: x. From version 0.12, the only valid positional argument will be `data`, and passing other arguments without an explicit keyword will result in an error or misinterpretation.\n",
      "  warnings.warn(\n"
     ]
    },
    {
     "data": {
      "image/png": "[encoded data removed]",
      "text/plain": [
       "<Figure size 800x600 with 1 Axes>"
      ]
     },
     "metadata": {},
     "output_type": "display_data"
    }
   ],
   "source": [
    "plt.figure(figsize=(8, 6))\n",
    "sns.countplot(y_train, palette=[\"green\", \"red\"])\n",
    "plt.xlabel('Fraud')\n",
    "plt.ylabel('Count')\n",
    "plt.title('Distribution of Fraud in Train Dataset')\n",
    "plt.show()"
   ]
  },
  {
   "cell_type": "markdown",
   "metadata": {},
   "source": [
    "From the plot above, we can see clearly that the target is imbalanced with heavy lean towards 0 in the train dataset. To resolve this issue, we will use random oversampling to balance between the two classes in our target for the train dataset before training our models. "
   ]
  },
  {
   "cell_type": "code",
   "execution_count": 10,
   "metadata": {},
   "outputs": [],
   "source": [
    "oversampler = RandomOverSampler(random_state=42)\n",
    "X_resam, y_resam = oversampler.fit_resample(X_train, y_train)"
   ]
  },
  {
   "cell_type": "markdown",
   "metadata": {},
   "source": [
    "<h2> Basic Neural Network with MLP Classifier </h2><br>\n",
    "We will firstly train a basic neural network with MLP classifier using train dataset. "
   ]
  },
  {
   "cell_type": "code",
   "execution_count": 11,
   "metadata": {},
   "outputs": [
    {
     "data": {
      "text/html": [
       "<style>#sk-container-id-1 {color: black;background-color: white;}#sk-container-id-1 pre{padding: 0;}#sk-container-id-1 div.sk-toggleable {background-color: white;}#sk-container-id-1 label.sk-toggleable__label {cursor: pointer;display: block;width: 100%;margin-bottom: 0;padding: 0.3em;box-sizing: border-box;text-align: center;}#sk-container-id-1 label.sk-toggleable__label-arrow:before {content: \"▸\";float: left;margin-right: 0.25em;color: #696969;}#sk-container-id-1 label.sk-toggleable__label-arrow:hover:before {color: black;}#sk-container-id-1 div.sk-estimator:hover label.sk-toggleable__label-arrow:before {color: black;}#sk-container-id-1 div.sk-toggleable__content {max-height: 0;max-width: 0;overflow: hidden;text-align: left;background-color: #f0f8ff;}#sk-container-id-1 div.sk-toggleable__content pre {margin: 0.2em;color: black;border-radius: 0.25em;background-color: #f0f8ff;}#sk-container-id-1 input.sk-toggleable__control:checked~div.sk-toggleable__content {max-height: 200px;max-width: 100%;overflow: auto;}#sk-container-id-1 input.sk-toggleable__control:checked~label.sk-toggleable__label-arrow:before {content: \"▾\";}#sk-container-id-1 div.sk-estimator input.sk-toggleable__control:checked~label.sk-toggleable__label {background-color: #d4ebff;}#sk-container-id-1 div.sk-label input.sk-toggleable__control:checked~label.sk-toggleable__label {background-color: #d4ebff;}#sk-container-id-1 input.sk-hidden--visually {border: 0;clip: rect(1px 1px 1px 1px);clip: rect(1px, 1px, 1px, 1px);height: 1px;margin: -1px;overflow: hidden;padding: 0;position: absolute;width: 1px;}#sk-container-id-1 div.sk-estimator {font-family: monospace;background-color: #f0f8ff;border: 1px dotted black;border-radius: 0.25em;box-sizing: border-box;margin-bottom: 0.5em;}#sk-container-id-1 div.sk-estimator:hover {background-color: #d4ebff;}#sk-container-id-1 div.sk-parallel-item::after {content: \"\";width: 100%;border-bottom: 1px solid gray;flex-grow: 1;}#sk-container-id-1 div.sk-label:hover label.sk-toggleable__label {background-color: #d4ebff;}#sk-container-id-1 div.sk-serial::before {content: \"\";position: absolute;border-left: 1px solid gray;box-sizing: border-box;top: 0;bottom: 0;left: 50%;z-index: 0;}#sk-container-id-1 div.sk-serial {display: flex;flex-direction: column;align-items: center;background-color: white;padding-right: 0.2em;padding-left: 0.2em;position: relative;}#sk-container-id-1 div.sk-item {position: relative;z-index: 1;}#sk-container-id-1 div.sk-parallel {display: flex;align-items: stretch;justify-content: center;background-color: white;position: relative;}#sk-container-id-1 div.sk-item::before, #sk-container-id-1 div.sk-parallel-item::before {content: \"\";position: absolute;border-left: 1px solid gray;box-sizing: border-box;top: 0;bottom: 0;left: 50%;z-index: -1;}#sk-container-id-1 div.sk-parallel-item {display: flex;flex-direction: column;z-index: 1;position: relative;background-color: white;}#sk-container-id-1 div.sk-parallel-item:first-child::after {align-self: flex-end;width: 50%;}#sk-container-id-1 div.sk-parallel-item:last-child::after {align-self: flex-start;width: 50%;}#sk-container-id-1 div.sk-parallel-item:only-child::after {width: 0;}#sk-container-id-1 div.sk-dashed-wrapped {border: 1px dashed gray;margin: 0 0.4em 0.5em 0.4em;box-sizing: border-box;padding-bottom: 0.4em;background-color: white;}#sk-container-id-1 div.sk-label label {font-family: monospace;font-weight: bold;display: inline-block;line-height: 1.2em;}#sk-container-id-1 div.sk-label-container {text-align: center;}#sk-container-id-1 div.sk-container {/* jupyter's `normalize.less` sets `[hidden] { display: none; }` but bootstrap.min.css set `[hidden] { display: none !important; }` so we also need the `!important` here to be able to override the default hidden behavior on the sphinx rendered scikit-learn.org. See: https://github.com/scikit-learn/scikit-learn/issues/21755 */display: inline-block !important;position: relative;}#sk-container-id-1 div.sk-text-repr-fallback {display: none;}</style><div id=\"sk-container-id-1\" class=\"sk-top-container\"><div class=\"sk-text-repr-fallback\"><pre>MLPClassifier(hidden_layer_sizes=(16,), max_iter=1000, random_state=42)</pre><b>In a Jupyter environment, please rerun this cell to show the HTML representation or trust the notebook. <br />On GitHub, the HTML representation is unable to render, please try loading this page with nbviewer.org.</b></div><div class=\"sk-container\" hidden><div class=\"sk-item\"><div class=\"sk-estimator sk-toggleable\"><input class=\"sk-toggleable__control sk-hidden--visually\" id=\"sk-estimator-id-1\" type=\"checkbox\" checked><label for=\"sk-estimator-id-1\" class=\"sk-toggleable__label sk-toggleable__label-arrow\">MLPClassifier</label><div class=\"sk-toggleable__content\"><pre>MLPClassifier(hidden_layer_sizes=(16,), max_iter=1000, random_state=42)</pre></div></div></div></div></div>"
      ],
      "text/plain": [
       "MLPClassifier(hidden_layer_sizes=(16,), max_iter=1000, random_state=42)"
      ]
     },
     "execution_count": 11,
     "metadata": {},
     "output_type": "execute_result"
    }
   ],
   "source": [
    "mlp = MLPClassifier(hidden_layer_sizes=(16,), \n",
    "                    activation='relu', \n",
    "                    max_iter=1000, \n",
    "                    random_state=42)\n",
    "\n",
    "mlp.fit(X_train, y_train)"
   ]
  },
  {
   "cell_type": "markdown",
   "metadata": {},
   "source": [
    "We will use the above model to predict probability of each class in the test dataset. "
   ]
  },
  {
   "cell_type": "code",
   "execution_count": 12,
   "metadata": {},
   "outputs": [],
   "source": [
    "y_prob_mlp = mlp.predict_proba(X_test)[:, 1]"
   ]
  },
  {
   "cell_type": "markdown",
   "metadata": {},
   "source": [
    "Firstly, we will use the default threshold of 0.5 for classification."
   ]
  },
  {
   "cell_type": "code",
   "execution_count": 13,
   "metadata": {},
   "outputs": [],
   "source": [
    "y_pred_mlp_def = (y_prob_mlp > 0.5).astype(int)"
   ]
  },
  {
   "cell_type": "markdown",
   "metadata": {},
   "source": [
    "We will access the performance of this basic logistic regression model through accuracy, precision, recall, f1-score. "
   ]
  },
  {
   "cell_type": "code",
   "execution_count": 14,
   "metadata": {},
   "outputs": [
    {
     "name": "stdout",
     "output_type": "stream",
     "text": [
      "Performance of the basic MLP neural network model with default threshold of 0.5: \n",
      "\n",
      "Accuracy: 0.84007\n",
      "Precision: 0.35484\n",
      "Recall: 0.03986\n",
      "F1 Score: 0.07166\n"
     ]
    }
   ],
   "source": [
    "accuracy_mlp_def = accuracy_score(y_test, y_pred_mlp_def)\n",
    "precision_mlp_def = precision_score(y_test, y_pred_mlp_def)\n",
    "recall_mlp_def = recall_score(y_test, y_pred_mlp_def)\n",
    "f1_mlp_def = f1_score(y_test, y_pred_mlp_def)\n",
    "\n",
    "print(\"Performance of the basic MLP neural network model with default threshold of 0.5: \\n\")\n",
    "print(f'Accuracy: {accuracy_mlp_def:.5f}')\n",
    "print(f'Precision: {precision_mlp_def:.5f}')\n",
    "print(f'Recall: {recall_mlp_def:.5f}')\n",
    "print(f'F1 Score: {f1_mlp_def:.5f}')"
   ]
  },
  {
   "cell_type": "markdown",
   "metadata": {},
   "source": [
    "We will also take a look at the classification report and confusion matrix for this prediction. "
   ]
  },
  {
   "cell_type": "code",
   "execution_count": 15,
   "metadata": {},
   "outputs": [
    {
     "name": "stdout",
     "output_type": "stream",
     "text": [
      "Classification report:\n",
      "              precision    recall  f1-score   support\n",
      "\n",
      "           0       0.85      0.99      0.91      3012\n",
      "           1       0.35      0.04      0.07       552\n",
      "\n",
      "    accuracy                           0.84      3564\n",
      "   macro avg       0.60      0.51      0.49      3564\n",
      "weighted avg       0.77      0.84      0.78      3564\n",
      "\n",
      "Confusion matrix:\n",
      "True Positives (TP): 22\n",
      "False Positives (FP): 40\n",
      "True Negatives (TN): 2972\n",
      "False Negatives (FN): 530\n"
     ]
    }
   ],
   "source": [
    "print(\"Classification report:\")\n",
    "print(classification_report(y_test, y_pred_mlp_def))\n",
    "\n",
    "conf_matrix_mlp_def = confusion_matrix(y_test, y_pred_mlp_def)\n",
    "\n",
    "TP = conf_matrix_mlp_def[1, 1]\n",
    "FP = conf_matrix_mlp_def[0, 1]\n",
    "TN = conf_matrix_mlp_def[0, 0]\n",
    "FN = conf_matrix_mlp_def[1, 0]\n",
    "\n",
    "print(\"Confusion matrix:\")\n",
    "print(f'True Positives (TP): {TP}')\n",
    "print(f'False Positives (FP): {FP}')\n",
    "print(f'True Negatives (TN): {TN}')\n",
    "print(f'False Negatives (FN): {FN}')"
   ]
  },
  {
   "cell_type": "markdown",
   "metadata": {},
   "source": [
    "Secondly, we will use the optimal threshold from the ROC curve for classification. "
   ]
  },
  {
   "cell_type": "code",
   "execution_count": 16,
   "metadata": {},
   "outputs": [
    {
     "name": "stdout",
     "output_type": "stream",
     "text": [
      "Optimal threshold for the basic MLP neural network model: 0.12108389243001082\n"
     ]
    }
   ],
   "source": [
    "from sklearn.metrics import roc_curve\n",
    "\n",
    "fpr_mlp, tpr_mlp, thresholds_mlp = roc_curve(y_test, y_prob_mlp)\n",
    "\n",
    "# Calculate the Youden index at each threshold setting\n",
    "j_scores_mlp = tpr_mlp - fpr_mlp\n",
    "\n",
    "# Find the threshold setting that maximizes the Youden index\n",
    "optimal_idx_mlp = np.argmax(j_scores_mlp)\n",
    "optimal_threshold_mlp = thresholds_mlp[optimal_idx_mlp]\n",
    "print(f'Optimal threshold for the basic MLP neural network model: {optimal_threshold_mlp}')"
   ]
  },
  {
   "cell_type": "code",
   "execution_count": 17,
   "metadata": {},
   "outputs": [
    {
     "name": "stdout",
     "output_type": "stream",
     "text": [
      "Performance of the basic MLP neural network model with optimal threshold: \n",
      "\n",
      "Accuracy: 0.53732\n",
      "Precision: 0.21683\n",
      "Recall: 0.76087\n",
      "F1 Score: 0.33748\n"
     ]
    }
   ],
   "source": [
    "y_pred_mlp_opt = (y_prob_mlp > optimal_threshold_mlp).astype(int)\n",
    "\n",
    "accuracy_mlp_opt = accuracy_score(y_test, y_pred_mlp_opt)\n",
    "precision_mlp_opt = precision_score(y_test, y_pred_mlp_opt)\n",
    "recall_mlp_opt = recall_score(y_test, y_pred_mlp_opt)\n",
    "f1_mlp_opt = f1_score(y_test, y_pred_mlp_opt)\n",
    "\n",
    "print(\"Performance of the basic MLP neural network model with optimal threshold: \\n\")\n",
    "print(f'Accuracy: {accuracy_mlp_opt:.5f}')\n",
    "print(f'Precision: {precision_mlp_opt:.5f}')\n",
    "print(f'Recall: {recall_mlp_opt:.5f}')\n",
    "print(f'F1 Score: {f1_mlp_opt:.5f}')"
   ]
  },
  {
   "cell_type": "markdown",
   "metadata": {},
   "source": [
    "We will also take a look at the classification report and confusion matrix for this prediction. "
   ]
  },
  {
   "cell_type": "code",
   "execution_count": 18,
   "metadata": {},
   "outputs": [
    {
     "name": "stdout",
     "output_type": "stream",
     "text": [
      "Classification report:\n",
      "              precision    recall  f1-score   support\n",
      "\n",
      "           0       0.92      0.50      0.64      3012\n",
      "           1       0.22      0.76      0.34       552\n",
      "\n",
      "    accuracy                           0.54      3564\n",
      "   macro avg       0.57      0.63      0.49      3564\n",
      "weighted avg       0.81      0.54      0.60      3564\n",
      "\n",
      "Confusion matrix:\n",
      "True Positives (TP): 420\n",
      "False Positives (FP): 1517\n",
      "True Negatives (TN): 1495\n",
      "False Negatives (FN): 132\n"
     ]
    }
   ],
   "source": [
    "print(\"Classification report:\")\n",
    "print(classification_report(y_test, y_pred_mlp_opt))\n",
    "\n",
    "conf_matrix_mlp_opt = confusion_matrix(y_test, y_pred_mlp_opt)\n",
    "\n",
    "TP_opt = conf_matrix_mlp_opt[1, 1]\n",
    "FP_opt = conf_matrix_mlp_opt[0, 1]\n",
    "TN_opt = conf_matrix_mlp_opt[0, 0]\n",
    "FN_opt = conf_matrix_mlp_opt[1, 0]\n",
    "\n",
    "print(\"Confusion matrix:\")\n",
    "print(f'True Positives (TP): {TP_opt}')\n",
    "print(f'False Positives (FP): {FP_opt}')\n",
    "print(f'True Negatives (TN): {TN_opt}')\n",
    "print(f'False Negatives (FN): {FN_opt}')"
   ]
  },
  {
   "cell_type": "markdown",
   "metadata": {},
   "source": [
    "We can see that the optimal threshold has improved the recall of the basic logistic regression model from 0.03986 to 0.76087."
   ]
  },
  {
   "cell_type": "markdown",
   "metadata": {},
   "source": [
    "<h2> Hyperparameter Tuning </h2><br>\n",
    "Next, we will attempt to improve the performance of logistic regression through hyperparameter tuning. We will use <code>RandomizedSearchCV</code> with K folds validation to discover the best parameters that give the best recall over a range of params. "
   ]
  },
  {
   "cell_type": "code",
   "execution_count": 19,
   "metadata": {},
   "outputs": [
    {
     "name": "stderr",
     "output_type": "stream",
     "text": [
      "/Users/yanghaoying/Library/Python/3.9/lib/python/site-packages/sklearn/neural_network/_multilayer_perceptron.py:684: ConvergenceWarning: Stochastic Optimizer: Maximum iterations (120) reached and the optimization hasn't converged yet.\n",
      "  warnings.warn(\n",
      "/Users/yanghaoying/Library/Python/3.9/lib/python/site-packages/sklearn/neural_network/_multilayer_perceptron.py:684: ConvergenceWarning: Stochastic Optimizer: Maximum iterations (199) reached and the optimization hasn't converged yet.\n",
      "  warnings.warn(\n",
      "/Users/yanghaoying/Library/Python/3.9/lib/python/site-packages/sklearn/neural_network/_multilayer_perceptron.py:684: ConvergenceWarning: Stochastic Optimizer: Maximum iterations (199) reached and the optimization hasn't converged yet.\n",
      "  warnings.warn(\n",
      "/Users/yanghaoying/Library/Python/3.9/lib/python/site-packages/sklearn/neural_network/_multilayer_perceptron.py:684: ConvergenceWarning: Stochastic Optimizer: Maximum iterations (199) reached and the optimization hasn't converged yet.\n",
      "  warnings.warn(\n",
      "/Users/yanghaoying/Library/Python/3.9/lib/python/site-packages/sklearn/neural_network/_multilayer_perceptron.py:684: ConvergenceWarning: Stochastic Optimizer: Maximum iterations (199) reached and the optimization hasn't converged yet.\n",
      "  warnings.warn(\n",
      "/Users/yanghaoying/Library/Python/3.9/lib/python/site-packages/sklearn/neural_network/_multilayer_perceptron.py:684: ConvergenceWarning: Stochastic Optimizer: Maximum iterations (199) reached and the optimization hasn't converged yet.\n",
      "  warnings.warn(\n",
      "/Users/yanghaoying/Library/Python/3.9/lib/python/site-packages/sklearn/neural_network/_multilayer_perceptron.py:684: ConvergenceWarning: Stochastic Optimizer: Maximum iterations (199) reached and the optimization hasn't converged yet.\n",
      "  warnings.warn(\n",
      "/Users/yanghaoying/Library/Python/3.9/lib/python/site-packages/sklearn/neural_network/_multilayer_perceptron.py:684: ConvergenceWarning: Stochastic Optimizer: Maximum iterations (199) reached and the optimization hasn't converged yet.\n",
      "  warnings.warn(\n",
      "/Users/yanghaoying/Library/Python/3.9/lib/python/site-packages/sklearn/neural_network/_multilayer_perceptron.py:684: ConvergenceWarning: Stochastic Optimizer: Maximum iterations (199) reached and the optimization hasn't converged yet.\n",
      "  warnings.warn(\n",
      "/Users/yanghaoying/Library/Python/3.9/lib/python/site-packages/sklearn/neural_network/_multilayer_perceptron.py:684: ConvergenceWarning: Stochastic Optimizer: Maximum iterations (199) reached and the optimization hasn't converged yet.\n",
      "  warnings.warn(\n",
      "/Users/yanghaoying/Library/Python/3.9/lib/python/site-packages/sklearn/neural_network/_multilayer_perceptron.py:684: ConvergenceWarning: Stochastic Optimizer: Maximum iterations (199) reached and the optimization hasn't converged yet.\n",
      "  warnings.warn(\n",
      "/Users/yanghaoying/Library/Python/3.9/lib/python/site-packages/sklearn/neural_network/_multilayer_perceptron.py:684: ConvergenceWarning: Stochastic Optimizer: Maximum iterations (291) reached and the optimization hasn't converged yet.\n",
      "  warnings.warn(\n",
      "/Users/yanghaoying/Library/Python/3.9/lib/python/site-packages/sklearn/neural_network/_multilayer_perceptron.py:684: ConvergenceWarning: Stochastic Optimizer: Maximum iterations (291) reached and the optimization hasn't converged yet.\n",
      "  warnings.warn(\n",
      "/Users/yanghaoying/Library/Python/3.9/lib/python/site-packages/sklearn/neural_network/_multilayer_perceptron.py:684: ConvergenceWarning: Stochastic Optimizer: Maximum iterations (291) reached and the optimization hasn't converged yet.\n",
      "  warnings.warn(\n",
      "/Users/yanghaoying/Library/Python/3.9/lib/python/site-packages/sklearn/neural_network/_multilayer_perceptron.py:684: ConvergenceWarning: Stochastic Optimizer: Maximum iterations (291) reached and the optimization hasn't converged yet.\n",
      "  warnings.warn(\n",
      "/Users/yanghaoying/Library/Python/3.9/lib/python/site-packages/sklearn/neural_network/_multilayer_perceptron.py:684: ConvergenceWarning: Stochastic Optimizer: Maximum iterations (291) reached and the optimization hasn't converged yet.\n",
      "  warnings.warn(\n",
      "/Users/yanghaoying/Library/Python/3.9/lib/python/site-packages/sklearn/neural_network/_multilayer_perceptron.py:684: ConvergenceWarning: Stochastic Optimizer: Maximum iterations (291) reached and the optimization hasn't converged yet.\n",
      "  warnings.warn(\n",
      "/Users/yanghaoying/Library/Python/3.9/lib/python/site-packages/sklearn/neural_network/_multilayer_perceptron.py:684: ConvergenceWarning: Stochastic Optimizer: Maximum iterations (291) reached and the optimization hasn't converged yet.\n",
      "  warnings.warn(\n",
      "/Users/yanghaoying/Library/Python/3.9/lib/python/site-packages/sklearn/neural_network/_multilayer_perceptron.py:684: ConvergenceWarning: Stochastic Optimizer: Maximum iterations (291) reached and the optimization hasn't converged yet.\n",
      "  warnings.warn(\n",
      "/Users/yanghaoying/Library/Python/3.9/lib/python/site-packages/sklearn/neural_network/_multilayer_perceptron.py:684: ConvergenceWarning: Stochastic Optimizer: Maximum iterations (291) reached and the optimization hasn't converged yet.\n",
      "  warnings.warn(\n",
      "/Users/yanghaoying/Library/Python/3.9/lib/python/site-packages/sklearn/neural_network/_multilayer_perceptron.py:684: ConvergenceWarning: Stochastic Optimizer: Maximum iterations (527) reached and the optimization hasn't converged yet.\n",
      "  warnings.warn(\n",
      "/Users/yanghaoying/Library/Python/3.9/lib/python/site-packages/sklearn/neural_network/_multilayer_perceptron.py:684: ConvergenceWarning: Stochastic Optimizer: Maximum iterations (527) reached and the optimization hasn't converged yet.\n",
      "  warnings.warn(\n",
      "/Users/yanghaoying/Library/Python/3.9/lib/python/site-packages/sklearn/neural_network/_multilayer_perceptron.py:684: ConvergenceWarning: Stochastic Optimizer: Maximum iterations (527) reached and the optimization hasn't converged yet.\n",
      "  warnings.warn(\n",
      "/Users/yanghaoying/Library/Python/3.9/lib/python/site-packages/sklearn/neural_network/_multilayer_perceptron.py:684: ConvergenceWarning: Stochastic Optimizer: Maximum iterations (527) reached and the optimization hasn't converged yet.\n",
      "  warnings.warn(\n",
      "/Users/yanghaoying/Library/Python/3.9/lib/python/site-packages/sklearn/neural_network/_multilayer_perceptron.py:684: ConvergenceWarning: Stochastic Optimizer: Maximum iterations (527) reached and the optimization hasn't converged yet.\n",
      "  warnings.warn(\n",
      "/Users/yanghaoying/Library/Python/3.9/lib/python/site-packages/sklearn/neural_network/_multilayer_perceptron.py:684: ConvergenceWarning: Stochastic Optimizer: Maximum iterations (527) reached and the optimization hasn't converged yet.\n",
      "  warnings.warn(\n",
      "/Users/yanghaoying/Library/Python/3.9/lib/python/site-packages/sklearn/neural_network/_multilayer_perceptron.py:684: ConvergenceWarning: Stochastic Optimizer: Maximum iterations (527) reached and the optimization hasn't converged yet.\n",
      "  warnings.warn(\n",
      "/Users/yanghaoying/Library/Python/3.9/lib/python/site-packages/sklearn/neural_network/_multilayer_perceptron.py:684: ConvergenceWarning: Stochastic Optimizer: Maximum iterations (101) reached and the optimization hasn't converged yet.\n",
      "  warnings.warn(\n",
      "/Users/yanghaoying/Library/Python/3.9/lib/python/site-packages/sklearn/neural_network/_multilayer_perceptron.py:684: ConvergenceWarning: Stochastic Optimizer: Maximum iterations (527) reached and the optimization hasn't converged yet.\n",
      "  warnings.warn(\n",
      "/Users/yanghaoying/Library/Python/3.9/lib/python/site-packages/sklearn/neural_network/_multilayer_perceptron.py:684: ConvergenceWarning: Stochastic Optimizer: Maximum iterations (101) reached and the optimization hasn't converged yet.\n",
      "  warnings.warn(\n",
      "/Users/yanghaoying/Library/Python/3.9/lib/python/site-packages/sklearn/neural_network/_multilayer_perceptron.py:684: ConvergenceWarning: Stochastic Optimizer: Maximum iterations (101) reached and the optimization hasn't converged yet.\n",
      "  warnings.warn(\n",
      "/Users/yanghaoying/Library/Python/3.9/lib/python/site-packages/sklearn/neural_network/_multilayer_perceptron.py:684: ConvergenceWarning: Stochastic Optimizer: Maximum iterations (101) reached and the optimization hasn't converged yet.\n",
      "  warnings.warn(\n",
      "/Users/yanghaoying/Library/Python/3.9/lib/python/site-packages/sklearn/neural_network/_multilayer_perceptron.py:684: ConvergenceWarning: Stochastic Optimizer: Maximum iterations (101) reached and the optimization hasn't converged yet.\n",
      "  warnings.warn(\n",
      "/Users/yanghaoying/Library/Python/3.9/lib/python/site-packages/sklearn/neural_network/_multilayer_perceptron.py:684: ConvergenceWarning: Stochastic Optimizer: Maximum iterations (101) reached and the optimization hasn't converged yet.\n",
      "  warnings.warn(\n",
      "/Users/yanghaoying/Library/Python/3.9/lib/python/site-packages/sklearn/neural_network/_multilayer_perceptron.py:684: ConvergenceWarning: Stochastic Optimizer: Maximum iterations (101) reached and the optimization hasn't converged yet.\n",
      "  warnings.warn(\n",
      "/Users/yanghaoying/Library/Python/3.9/lib/python/site-packages/sklearn/neural_network/_multilayer_perceptron.py:684: ConvergenceWarning: Stochastic Optimizer: Maximum iterations (101) reached and the optimization hasn't converged yet.\n",
      "  warnings.warn(\n",
      "/Users/yanghaoying/Library/Python/3.9/lib/python/site-packages/sklearn/neural_network/_multilayer_perceptron.py:684: ConvergenceWarning: Stochastic Optimizer: Maximum iterations (101) reached and the optimization hasn't converged yet.\n",
      "  warnings.warn(\n",
      "/Users/yanghaoying/Library/Python/3.9/lib/python/site-packages/sklearn/neural_network/_multilayer_perceptron.py:684: ConvergenceWarning: Stochastic Optimizer: Maximum iterations (527) reached and the optimization hasn't converged yet.\n",
      "  warnings.warn(\n",
      "/Users/yanghaoying/Library/Python/3.9/lib/python/site-packages/sklearn/neural_network/_multilayer_perceptron.py:684: ConvergenceWarning: Stochastic Optimizer: Maximum iterations (527) reached and the optimization hasn't converged yet.\n",
      "  warnings.warn(\n",
      "/Users/yanghaoying/Library/Python/3.9/lib/python/site-packages/sklearn/neural_network/_multilayer_perceptron.py:684: ConvergenceWarning: Stochastic Optimizer: Maximum iterations (101) reached and the optimization hasn't converged yet.\n",
      "  warnings.warn(\n",
      "/Users/yanghaoying/Library/Python/3.9/lib/python/site-packages/sklearn/neural_network/_multilayer_perceptron.py:684: ConvergenceWarning: Stochastic Optimizer: Maximum iterations (501) reached and the optimization hasn't converged yet.\n",
      "  warnings.warn(\n",
      "/Users/yanghaoying/Library/Python/3.9/lib/python/site-packages/sklearn/neural_network/_multilayer_perceptron.py:684: ConvergenceWarning: Stochastic Optimizer: Maximum iterations (501) reached and the optimization hasn't converged yet.\n",
      "  warnings.warn(\n",
      "/Users/yanghaoying/Library/Python/3.9/lib/python/site-packages/sklearn/neural_network/_multilayer_perceptron.py:684: ConvergenceWarning: Stochastic Optimizer: Maximum iterations (501) reached and the optimization hasn't converged yet.\n",
      "  warnings.warn(\n",
      "/Users/yanghaoying/Library/Python/3.9/lib/python/site-packages/sklearn/neural_network/_multilayer_perceptron.py:684: ConvergenceWarning: Stochastic Optimizer: Maximum iterations (501) reached and the optimization hasn't converged yet.\n",
      "  warnings.warn(\n",
      "/Users/yanghaoying/Library/Python/3.9/lib/python/site-packages/sklearn/neural_network/_multilayer_perceptron.py:684: ConvergenceWarning: Stochastic Optimizer: Maximum iterations (501) reached and the optimization hasn't converged yet.\n",
      "  warnings.warn(\n",
      "/Users/yanghaoying/Library/Python/3.9/lib/python/site-packages/sklearn/neural_network/_multilayer_perceptron.py:684: ConvergenceWarning: Stochastic Optimizer: Maximum iterations (501) reached and the optimization hasn't converged yet.\n",
      "  warnings.warn(\n",
      "/Users/yanghaoying/Library/Python/3.9/lib/python/site-packages/sklearn/neural_network/_multilayer_perceptron.py:684: ConvergenceWarning: Stochastic Optimizer: Maximum iterations (501) reached and the optimization hasn't converged yet.\n",
      "  warnings.warn(\n",
      "/Users/yanghaoying/Library/Python/3.9/lib/python/site-packages/sklearn/neural_network/_multilayer_perceptron.py:684: ConvergenceWarning: Stochastic Optimizer: Maximum iterations (501) reached and the optimization hasn't converged yet.\n",
      "  warnings.warn(\n",
      "/Users/yanghaoying/Library/Python/3.9/lib/python/site-packages/sklearn/neural_network/_multilayer_perceptron.py:684: ConvergenceWarning: Stochastic Optimizer: Maximum iterations (501) reached and the optimization hasn't converged yet.\n",
      "  warnings.warn(\n",
      "/Users/yanghaoying/Library/Python/3.9/lib/python/site-packages/sklearn/neural_network/_multilayer_perceptron.py:684: ConvergenceWarning: Stochastic Optimizer: Maximum iterations (501) reached and the optimization hasn't converged yet.\n",
      "  warnings.warn(\n"
     ]
    },
    {
     "data": {
      "text/html": [
       "<style>#sk-container-id-2 {color: black;background-color: white;}#sk-container-id-2 pre{padding: 0;}#sk-container-id-2 div.sk-toggleable {background-color: white;}#sk-container-id-2 label.sk-toggleable__label {cursor: pointer;display: block;width: 100%;margin-bottom: 0;padding: 0.3em;box-sizing: border-box;text-align: center;}#sk-container-id-2 label.sk-toggleable__label-arrow:before {content: \"▸\";float: left;margin-right: 0.25em;color: #696969;}#sk-container-id-2 label.sk-toggleable__label-arrow:hover:before {color: black;}#sk-container-id-2 div.sk-estimator:hover label.sk-toggleable__label-arrow:before {color: black;}#sk-container-id-2 div.sk-toggleable__content {max-height: 0;max-width: 0;overflow: hidden;text-align: left;background-color: #f0f8ff;}#sk-container-id-2 div.sk-toggleable__content pre {margin: 0.2em;color: black;border-radius: 0.25em;background-color: #f0f8ff;}#sk-container-id-2 input.sk-toggleable__control:checked~div.sk-toggleable__content {max-height: 200px;max-width: 100%;overflow: auto;}#sk-container-id-2 input.sk-toggleable__control:checked~label.sk-toggleable__label-arrow:before {content: \"▾\";}#sk-container-id-2 div.sk-estimator input.sk-toggleable__control:checked~label.sk-toggleable__label {background-color: #d4ebff;}#sk-container-id-2 div.sk-label input.sk-toggleable__control:checked~label.sk-toggleable__label {background-color: #d4ebff;}#sk-container-id-2 input.sk-hidden--visually {border: 0;clip: rect(1px 1px 1px 1px);clip: rect(1px, 1px, 1px, 1px);height: 1px;margin: -1px;overflow: hidden;padding: 0;position: absolute;width: 1px;}#sk-container-id-2 div.sk-estimator {font-family: monospace;background-color: #f0f8ff;border: 1px dotted black;border-radius: 0.25em;box-sizing: border-box;margin-bottom: 0.5em;}#sk-container-id-2 div.sk-estimator:hover {background-color: #d4ebff;}#sk-container-id-2 div.sk-parallel-item::after {content: \"\";width: 100%;border-bottom: 1px solid gray;flex-grow: 1;}#sk-container-id-2 div.sk-label:hover label.sk-toggleable__label {background-color: #d4ebff;}#sk-container-id-2 div.sk-serial::before {content: \"\";position: absolute;border-left: 1px solid gray;box-sizing: border-box;top: 0;bottom: 0;left: 50%;z-index: 0;}#sk-container-id-2 div.sk-serial {display: flex;flex-direction: column;align-items: center;background-color: white;padding-right: 0.2em;padding-left: 0.2em;position: relative;}#sk-container-id-2 div.sk-item {position: relative;z-index: 1;}#sk-container-id-2 div.sk-parallel {display: flex;align-items: stretch;justify-content: center;background-color: white;position: relative;}#sk-container-id-2 div.sk-item::before, #sk-container-id-2 div.sk-parallel-item::before {content: \"\";position: absolute;border-left: 1px solid gray;box-sizing: border-box;top: 0;bottom: 0;left: 50%;z-index: -1;}#sk-container-id-2 div.sk-parallel-item {display: flex;flex-direction: column;z-index: 1;position: relative;background-color: white;}#sk-container-id-2 div.sk-parallel-item:first-child::after {align-self: flex-end;width: 50%;}#sk-container-id-2 div.sk-parallel-item:last-child::after {align-self: flex-start;width: 50%;}#sk-container-id-2 div.sk-parallel-item:only-child::after {width: 0;}#sk-container-id-2 div.sk-dashed-wrapped {border: 1px dashed gray;margin: 0 0.4em 0.5em 0.4em;box-sizing: border-box;padding-bottom: 0.4em;background-color: white;}#sk-container-id-2 div.sk-label label {font-family: monospace;font-weight: bold;display: inline-block;line-height: 1.2em;}#sk-container-id-2 div.sk-label-container {text-align: center;}#sk-container-id-2 div.sk-container {/* jupyter's `normalize.less` sets `[hidden] { display: none; }` but bootstrap.min.css set `[hidden] { display: none !important; }` so we also need the `!important` here to be able to override the default hidden behavior on the sphinx rendered scikit-learn.org. See: https://github.com/scikit-learn/scikit-learn/issues/21755 */display: inline-block !important;position: relative;}#sk-container-id-2 div.sk-text-repr-fallback {display: none;}</style><div id=\"sk-container-id-2\" class=\"sk-top-container\"><div class=\"sk-text-repr-fallback\"><pre>RandomizedSearchCV(cv=KFold(n_splits=10, random_state=42, shuffle=True),\n",
       "                   estimator=MLPClassifier(random_state=42), n_jobs=-1,\n",
       "                   param_distributions={&#x27;activation&#x27;: [&#x27;relu&#x27;, &#x27;tanh&#x27;,\n",
       "                                                       &#x27;logistic&#x27;],\n",
       "                                        &#x27;alpha&#x27;: &lt;scipy.stats._distn_infrastructure.rv_continuous_frozen object at 0x7f9c7493e610&gt;,\n",
       "                                        &#x27;hidden_layer_sizes&#x27;: [(50,), (100,),\n",
       "                                                               (150,), (200,)],\n",
       "                                        &#x27;learning_rate&#x27;: [&#x27;constant&#x27;,\n",
       "                                                          &#x27;invscaling&#x27;,\n",
       "                                                          &#x27;adaptive&#x27;],\n",
       "                                        &#x27;learning_rate_init&#x27;: &lt;scipy.stats._distn_infrastructure.rv_continuous_frozen object at 0x7f9c74977220&gt;,\n",
       "                                        &#x27;max_iter&#x27;: &lt;scipy.stats._distn_infrastructure.rv_discrete_frozen object at 0x7f9c7493eeb0&gt;,\n",
       "                                        &#x27;solver&#x27;: [&#x27;sgd&#x27;, &#x27;adam&#x27;]},\n",
       "                   random_state=42, scoring=&#x27;recall&#x27;)</pre><b>In a Jupyter environment, please rerun this cell to show the HTML representation or trust the notebook. <br />On GitHub, the HTML representation is unable to render, please try loading this page with nbviewer.org.</b></div><div class=\"sk-container\" hidden><div class=\"sk-item sk-dashed-wrapped\"><div class=\"sk-label-container\"><div class=\"sk-label sk-toggleable\"><input class=\"sk-toggleable__control sk-hidden--visually\" id=\"sk-estimator-id-2\" type=\"checkbox\" ><label for=\"sk-estimator-id-2\" class=\"sk-toggleable__label sk-toggleable__label-arrow\">RandomizedSearchCV</label><div class=\"sk-toggleable__content\"><pre>RandomizedSearchCV(cv=KFold(n_splits=10, random_state=42, shuffle=True),\n",
       "                   estimator=MLPClassifier(random_state=42), n_jobs=-1,\n",
       "                   param_distributions={&#x27;activation&#x27;: [&#x27;relu&#x27;, &#x27;tanh&#x27;,\n",
       "                                                       &#x27;logistic&#x27;],\n",
       "                                        &#x27;alpha&#x27;: &lt;scipy.stats._distn_infrastructure.rv_continuous_frozen object at 0x7f9c7493e610&gt;,\n",
       "                                        &#x27;hidden_layer_sizes&#x27;: [(50,), (100,),\n",
       "                                                               (150,), (200,)],\n",
       "                                        &#x27;learning_rate&#x27;: [&#x27;constant&#x27;,\n",
       "                                                          &#x27;invscaling&#x27;,\n",
       "                                                          &#x27;adaptive&#x27;],\n",
       "                                        &#x27;learning_rate_init&#x27;: &lt;scipy.stats._distn_infrastructure.rv_continuous_frozen object at 0x7f9c74977220&gt;,\n",
       "                                        &#x27;max_iter&#x27;: &lt;scipy.stats._distn_infrastructure.rv_discrete_frozen object at 0x7f9c7493eeb0&gt;,\n",
       "                                        &#x27;solver&#x27;: [&#x27;sgd&#x27;, &#x27;adam&#x27;]},\n",
       "                   random_state=42, scoring=&#x27;recall&#x27;)</pre></div></div></div><div class=\"sk-parallel\"><div class=\"sk-parallel-item\"><div class=\"sk-item\"><div class=\"sk-label-container\"><div class=\"sk-label sk-toggleable\"><input class=\"sk-toggleable__control sk-hidden--visually\" id=\"sk-estimator-id-3\" type=\"checkbox\" ><label for=\"sk-estimator-id-3\" class=\"sk-toggleable__label sk-toggleable__label-arrow\">estimator: MLPClassifier</label><div class=\"sk-toggleable__content\"><pre>MLPClassifier(random_state=42)</pre></div></div></div><div class=\"sk-serial\"><div class=\"sk-item\"><div class=\"sk-estimator sk-toggleable\"><input class=\"sk-toggleable__control sk-hidden--visually\" id=\"sk-estimator-id-4\" type=\"checkbox\" ><label for=\"sk-estimator-id-4\" class=\"sk-toggleable__label sk-toggleable__label-arrow\">MLPClassifier</label><div class=\"sk-toggleable__content\"><pre>MLPClassifier(random_state=42)</pre></div></div></div></div></div></div></div></div></div></div>"
      ],
      "text/plain": [
       "RandomizedSearchCV(cv=KFold(n_splits=10, random_state=42, shuffle=True),\n",
       "                   estimator=MLPClassifier(random_state=42), n_jobs=-1,\n",
       "                   param_distributions={'activation': ['relu', 'tanh',\n",
       "                                                       'logistic'],\n",
       "                                        'alpha': <scipy.stats._distn_infrastructure.rv_continuous_frozen object at 0x7f9c7493e610>,\n",
       "                                        'hidden_layer_sizes': [(50,), (100,),\n",
       "                                                               (150,), (200,)],\n",
       "                                        'learning_rate': ['constant',\n",
       "                                                          'invscaling',\n",
       "                                                          'adaptive'],\n",
       "                                        'learning_rate_init': <scipy.stats._distn_infrastructure.rv_continuous_frozen object at 0x7f9c74977220>,\n",
       "                                        'max_iter': <scipy.stats._distn_infrastructure.rv_discrete_frozen object at 0x7f9c7493eeb0>,\n",
       "                                        'solver': ['sgd', 'adam']},\n",
       "                   random_state=42, scoring='recall')"
      ]
     },
     "execution_count": 19,
     "metadata": {},
     "output_type": "execute_result"
    }
   ],
   "source": [
    "from scipy.stats import randint, uniform\n",
    "\n",
    "param_dist = {\n",
    "    'hidden_layer_sizes': [(50,), (100,), (150,), (200,)],  # Adjust as needed\n",
    "    'activation': ['relu', 'tanh', 'logistic'],\n",
    "    'solver': ['sgd', 'adam'],\n",
    "    'alpha': uniform(1e-6, 1e-3),  # Regularization parameter\n",
    "    'learning_rate': ['constant', 'invscaling', 'adaptive'],\n",
    "    'learning_rate_init': uniform(1e-4, 1e-2),  # Initial learning rate\n",
    "    'max_iter': randint(100, 1000),  # Maximum number of iterations\n",
    "}\n",
    "\n",
    "kf = KFold(n_splits=10, shuffle=True, random_state=42)\n",
    "\n",
    "mlp_rs = MLPClassifier(random_state=42)\n",
    "\n",
    "random_search = RandomizedSearchCV(mlp_rs, param_distributions=param_dist, n_iter=10, cv=kf, scoring='recall', \n",
    "                                   random_state=42, n_jobs=-1)\n",
    "\n",
    "random_search.fit(X_train, y_train)"
   ]
  },
  {
   "cell_type": "code",
   "execution_count": 20,
   "metadata": {},
   "outputs": [
    {
     "name": "stdout",
     "output_type": "stream",
     "text": [
      "Best Hyperparameters from RandomizedSearchCV:\n",
      " {'activation': 'relu', 'alpha': 0.0006184815096277166, 'hidden_layer_sizes': (100,), 'learning_rate': 'invscaling', 'learning_rate_init': 0.00017066305219717406, 'max_iter': 956, 'solver': 'sgd'}\n"
     ]
    }
   ],
   "source": [
    "print(\"Best Hyperparameters from RandomizedSearchCV:\\n\", random_search.best_params_)"
   ]
  },
  {
   "cell_type": "markdown",
   "metadata": {},
   "source": [
    "<h2> New Logistic Regression Model with Tuned Hyperparameters</h2><br>\n",
    "Lastly, we will train an advanced logistic regression model using the best hyperparameters we obtained from GridSearchCV. "
   ]
  },
  {
   "cell_type": "code",
   "execution_count": 22,
   "metadata": {},
   "outputs": [
    {
     "data": {
      "text/html": [
       "<style>#sk-container-id-3 {color: black;background-color: white;}#sk-container-id-3 pre{padding: 0;}#sk-container-id-3 div.sk-toggleable {background-color: white;}#sk-container-id-3 label.sk-toggleable__label {cursor: pointer;display: block;width: 100%;margin-bottom: 0;padding: 0.3em;box-sizing: border-box;text-align: center;}#sk-container-id-3 label.sk-toggleable__label-arrow:before {content: \"▸\";float: left;margin-right: 0.25em;color: #696969;}#sk-container-id-3 label.sk-toggleable__label-arrow:hover:before {color: black;}#sk-container-id-3 div.sk-estimator:hover label.sk-toggleable__label-arrow:before {color: black;}#sk-container-id-3 div.sk-toggleable__content {max-height: 0;max-width: 0;overflow: hidden;text-align: left;background-color: #f0f8ff;}#sk-container-id-3 div.sk-toggleable__content pre {margin: 0.2em;color: black;border-radius: 0.25em;background-color: #f0f8ff;}#sk-container-id-3 input.sk-toggleable__control:checked~div.sk-toggleable__content {max-height: 200px;max-width: 100%;overflow: auto;}#sk-container-id-3 input.sk-toggleable__control:checked~label.sk-toggleable__label-arrow:before {content: \"▾\";}#sk-container-id-3 div.sk-estimator input.sk-toggleable__control:checked~label.sk-toggleable__label {background-color: #d4ebff;}#sk-container-id-3 div.sk-label input.sk-toggleable__control:checked~label.sk-toggleable__label {background-color: #d4ebff;}#sk-container-id-3 input.sk-hidden--visually {border: 0;clip: rect(1px 1px 1px 1px);clip: rect(1px, 1px, 1px, 1px);height: 1px;margin: -1px;overflow: hidden;padding: 0;position: absolute;width: 1px;}#sk-container-id-3 div.sk-estimator {font-family: monospace;background-color: #f0f8ff;border: 1px dotted black;border-radius: 0.25em;box-sizing: border-box;margin-bottom: 0.5em;}#sk-container-id-3 div.sk-estimator:hover {background-color: #d4ebff;}#sk-container-id-3 div.sk-parallel-item::after {content: \"\";width: 100%;border-bottom: 1px solid gray;flex-grow: 1;}#sk-container-id-3 div.sk-label:hover label.sk-toggleable__label {background-color: #d4ebff;}#sk-container-id-3 div.sk-serial::before {content: \"\";position: absolute;border-left: 1px solid gray;box-sizing: border-box;top: 0;bottom: 0;left: 50%;z-index: 0;}#sk-container-id-3 div.sk-serial {display: flex;flex-direction: column;align-items: center;background-color: white;padding-right: 0.2em;padding-left: 0.2em;position: relative;}#sk-container-id-3 div.sk-item {position: relative;z-index: 1;}#sk-container-id-3 div.sk-parallel {display: flex;align-items: stretch;justify-content: center;background-color: white;position: relative;}#sk-container-id-3 div.sk-item::before, #sk-container-id-3 div.sk-parallel-item::before {content: \"\";position: absolute;border-left: 1px solid gray;box-sizing: border-box;top: 0;bottom: 0;left: 50%;z-index: -1;}#sk-container-id-3 div.sk-parallel-item {display: flex;flex-direction: column;z-index: 1;position: relative;background-color: white;}#sk-container-id-3 div.sk-parallel-item:first-child::after {align-self: flex-end;width: 50%;}#sk-container-id-3 div.sk-parallel-item:last-child::after {align-self: flex-start;width: 50%;}#sk-container-id-3 div.sk-parallel-item:only-child::after {width: 0;}#sk-container-id-3 div.sk-dashed-wrapped {border: 1px dashed gray;margin: 0 0.4em 0.5em 0.4em;box-sizing: border-box;padding-bottom: 0.4em;background-color: white;}#sk-container-id-3 div.sk-label label {font-family: monospace;font-weight: bold;display: inline-block;line-height: 1.2em;}#sk-container-id-3 div.sk-label-container {text-align: center;}#sk-container-id-3 div.sk-container {/* jupyter's `normalize.less` sets `[hidden] { display: none; }` but bootstrap.min.css set `[hidden] { display: none !important; }` so we also need the `!important` here to be able to override the default hidden behavior on the sphinx rendered scikit-learn.org. See: https://github.com/scikit-learn/scikit-learn/issues/21755 */display: inline-block !important;position: relative;}#sk-container-id-3 div.sk-text-repr-fallback {display: none;}</style><div id=\"sk-container-id-3\" class=\"sk-top-container\"><div class=\"sk-text-repr-fallback\"><pre>MLPClassifier(alpha=0.0006184815096277166, batch_size=64,\n",
       "              learning_rate=&#x27;invscaling&#x27;,\n",
       "              learning_rate_init=0.00017066305219717406, max_iter=956,\n",
       "              random_state=42, solver=&#x27;sgd&#x27;)</pre><b>In a Jupyter environment, please rerun this cell to show the HTML representation or trust the notebook. <br />On GitHub, the HTML representation is unable to render, please try loading this page with nbviewer.org.</b></div><div class=\"sk-container\" hidden><div class=\"sk-item\"><div class=\"sk-estimator sk-toggleable\"><input class=\"sk-toggleable__control sk-hidden--visually\" id=\"sk-estimator-id-5\" type=\"checkbox\" checked><label for=\"sk-estimator-id-5\" class=\"sk-toggleable__label sk-toggleable__label-arrow\">MLPClassifier</label><div class=\"sk-toggleable__content\"><pre>MLPClassifier(alpha=0.0006184815096277166, batch_size=64,\n",
       "              learning_rate=&#x27;invscaling&#x27;,\n",
       "              learning_rate_init=0.00017066305219717406, max_iter=956,\n",
       "              random_state=42, solver=&#x27;sgd&#x27;)</pre></div></div></div></div></div>"
      ],
      "text/plain": [
       "MLPClassifier(alpha=0.0006184815096277166, batch_size=64,\n",
       "              learning_rate='invscaling',\n",
       "              learning_rate_init=0.00017066305219717406, max_iter=956,\n",
       "              random_state=42, solver='sgd')"
      ]
     },
     "execution_count": 22,
     "metadata": {},
     "output_type": "execute_result"
    }
   ],
   "source": [
    "mlp_tuned = MLPClassifier(max_iter=956,\n",
    "                          learning_rate_init=0.00017066305219717406, \n",
    "                          learning_rate='invscaling', \n",
    "                          hidden_layer_sizes=(100,), batch_size=64, \n",
    "                          alpha=0.0006184815096277166,\n",
    "                          activation='relu',\n",
    "                          solver='sgd',\n",
    "                          random_state=42)\n",
    "mlp_tuned.fit(X_resam, y_resam)"
   ]
  },
  {
   "cell_type": "markdown",
   "metadata": {},
   "source": [
    "We will use the above model to predict probability of each class in the test dataset. "
   ]
  },
  {
   "cell_type": "code",
   "execution_count": 23,
   "metadata": {},
   "outputs": [],
   "source": [
    "y_prob_mlp_tuned = mlp_tuned.predict_proba(X_test)[:, 1]"
   ]
  },
  {
   "cell_type": "markdown",
   "metadata": {},
   "source": [
    "Firstly, we will use the default threshold of 0.5 for classification."
   ]
  },
  {
   "cell_type": "code",
   "execution_count": 24,
   "metadata": {},
   "outputs": [],
   "source": [
    "y_pred_mlp_def_tuned = (y_prob_mlp_tuned > 0.5).astype(int)"
   ]
  },
  {
   "cell_type": "markdown",
   "metadata": {},
   "source": [
    "We will access the performance of this tuned MLP neural network model through accuracy, precision, recall, f1-score."
   ]
  },
  {
   "cell_type": "code",
   "execution_count": 25,
   "metadata": {},
   "outputs": [
    {
     "name": "stdout",
     "output_type": "stream",
     "text": [
      "Performance of the tuned MLP neural network model with default threshold of 0.5: \n",
      "\n",
      "Accuracy: 0.53451\n",
      "Precision: 0.17384\n",
      "Recall: 0.53442\n",
      "F1 Score: 0.26234\n"
     ]
    }
   ],
   "source": [
    "accuracy_mlp_def_tuned = accuracy_score(y_test, y_pred_mlp_def_tuned)\n",
    "precision_mlp_def_tuned = precision_score(y_test, y_pred_mlp_def_tuned)\n",
    "recall_mlp_def_tuned = recall_score(y_test, y_pred_mlp_def_tuned)\n",
    "f1_mlp_def_tuned = f1_score(y_test, y_pred_mlp_def_tuned)\n",
    "\n",
    "print(\"Performance of the tuned MLP neural network model with default threshold of 0.5: \\n\")\n",
    "print(f'Accuracy: {accuracy_mlp_def_tuned:.5f}')\n",
    "print(f'Precision: {precision_mlp_def_tuned:.5f}')\n",
    "print(f'Recall: {recall_mlp_def_tuned:.5f}')\n",
    "print(f'F1 Score: {f1_mlp_def_tuned:.5f}')"
   ]
  },
  {
   "cell_type": "markdown",
   "metadata": {},
   "source": [
    "We will also take a look at the classification report and confusion matrix for this prediction. "
   ]
  },
  {
   "cell_type": "code",
   "execution_count": 26,
   "metadata": {},
   "outputs": [
    {
     "name": "stdout",
     "output_type": "stream",
     "text": [
      "Classification report:\n",
      "              precision    recall  f1-score   support\n",
      "\n",
      "           0       0.86      0.53      0.66      3012\n",
      "           1       0.17      0.53      0.26       552\n",
      "\n",
      "    accuracy                           0.53      3564\n",
      "   macro avg       0.52      0.53      0.46      3564\n",
      "weighted avg       0.76      0.53      0.60      3564\n",
      "\n",
      "Confusion matrix:\n",
      "True Positives (TP): 295\n",
      "False Positives (FP): 1402\n",
      "True Negatives (TN): 1610\n",
      "False Negatives (FN): 257\n"
     ]
    }
   ],
   "source": [
    "print(\"Classification report:\")\n",
    "print(classification_report(y_test, y_pred_mlp_def_tuned))\n",
    "\n",
    "conf_matrix_mlp_def_tuned = confusion_matrix(y_test, y_pred_mlp_def_tuned)\n",
    "\n",
    "TP_def_tuned = conf_matrix_mlp_def_tuned[1, 1]\n",
    "FP_def_tuned = conf_matrix_mlp_def_tuned[0, 1]\n",
    "TN_def_tuned = conf_matrix_mlp_def_tuned[0, 0]\n",
    "FN_def_tuned = conf_matrix_mlp_def_tuned[1, 0]\n",
    "\n",
    "print(\"Confusion matrix:\")\n",
    "print(f'True Positives (TP): {TP_def_tuned}')\n",
    "print(f'False Positives (FP): {FP_def_tuned}')\n",
    "print(f'True Negatives (TN): {TN_def_tuned}')\n",
    "print(f'False Negatives (FN): {FN_def_tuned}')"
   ]
  },
  {
   "cell_type": "markdown",
   "metadata": {},
   "source": [
    "Secondly, we will use the optimal threshold from the ROC curve for classification. "
   ]
  },
  {
   "cell_type": "code",
   "execution_count": 27,
   "metadata": {},
   "outputs": [
    {
     "name": "stdout",
     "output_type": "stream",
     "text": [
      "Optimal threshold for the tuned MLP neural network model: 0.3921508848457079\n"
     ]
    }
   ],
   "source": [
    "fpr_mlp_tuned, tpr_mlp_tuned, thresholds_mlp_tuned = roc_curve(y_test, y_prob_mlp_tuned)\n",
    "\n",
    "# Calculate the Youden index at each threshold setting\n",
    "j_scores_mlp_tuned = tpr_mlp_tuned - fpr_mlp_tuned\n",
    "\n",
    "# Find the threshold setting that maximizes the Youden index\n",
    "optimal_idx_mlp_tuned = np.argmax(j_scores_mlp_tuned)\n",
    "optimal_threshold_mlp_tuned = thresholds_mlp_tuned[optimal_idx_mlp_tuned]\n",
    "print(f'Optimal threshold for the tuned MLP neural network model: {optimal_threshold_mlp_tuned}')"
   ]
  },
  {
   "cell_type": "code",
   "execution_count": 28,
   "metadata": {},
   "outputs": [
    {
     "name": "stdout",
     "output_type": "stream",
     "text": [
      "Performance of the tuned MLP neural network model with optimal threshold: \n",
      "\n",
      "Accuracy: 0.31762\n",
      "Precision: 0.17316\n",
      "Recall: 0.90217\n",
      "F1 Score: 0.29055\n"
     ]
    }
   ],
   "source": [
    "y_pred_mlp_opt_tuned = (y_prob_mlp_tuned > optimal_threshold_mlp_tuned).astype(int)\n",
    "\n",
    "accuracy_mlp_opt_tuned = accuracy_score(y_test, y_pred_mlp_opt_tuned)\n",
    "precision_mlp_opt_tuned = precision_score(y_test, y_pred_mlp_opt_tuned)\n",
    "recall_mlp_opt_tuned = recall_score(y_test, y_pred_mlp_opt_tuned)\n",
    "f1_mlp_opt_tuned = f1_score(y_test, y_pred_mlp_opt_tuned)\n",
    "\n",
    "print(\"Performance of the tuned MLP neural network model with optimal threshold: \\n\")\n",
    "print(f'Accuracy: {accuracy_mlp_opt_tuned:.5f}')\n",
    "print(f'Precision: {precision_mlp_opt_tuned:.5f}')\n",
    "print(f'Recall: {recall_mlp_opt_tuned:.5f}')\n",
    "print(f'F1 Score: {f1_mlp_opt_tuned:.5f}')"
   ]
  },
  {
   "cell_type": "markdown",
   "metadata": {},
   "source": [
    "We will also take a look at the classification report and confusion matrix for this prediction. "
   ]
  },
  {
   "cell_type": "code",
   "execution_count": 29,
   "metadata": {},
   "outputs": [
    {
     "name": "stdout",
     "output_type": "stream",
     "text": [
      "Classification report:\n",
      "              precision    recall  f1-score   support\n",
      "\n",
      "           0       0.92      0.21      0.34      3012\n",
      "           1       0.17      0.90      0.29       552\n",
      "\n",
      "    accuracy                           0.32      3564\n",
      "   macro avg       0.55      0.56      0.32      3564\n",
      "weighted avg       0.81      0.32      0.33      3564\n",
      "\n",
      "Confusion matrix:\n",
      "True Positives (TP): 498\n",
      "False Positives (FP): 2378\n",
      "True Negatives (TN): 634\n",
      "False Negatives (FN): 54\n"
     ]
    }
   ],
   "source": [
    "print(\"Classification report:\")\n",
    "print(classification_report(y_test, y_pred_mlp_opt_tuned))\n",
    "\n",
    "conf_matrix_mlp_opt_tuned = confusion_matrix(y_test, y_pred_mlp_opt_tuned)\n",
    "\n",
    "TP_opt_tuned = conf_matrix_mlp_opt_tuned[1, 1]\n",
    "FP_opt_tuned = conf_matrix_mlp_opt_tuned[0, 1]\n",
    "TN_opt_tuned = conf_matrix_mlp_opt_tuned[0, 0]\n",
    "FN_opt_tuned = conf_matrix_mlp_opt_tuned[1, 0]\n",
    "\n",
    "print(\"Confusion matrix:\")\n",
    "print(f'True Positives (TP): {TP_opt_tuned}')\n",
    "print(f'False Positives (FP): {FP_opt_tuned}')\n",
    "print(f'True Negatives (TN): {TN_opt_tuned}')\n",
    "print(f'False Negatives (FN): {FN_opt_tuned}')"
   ]
  },
  {
   "cell_type": "markdown",
   "metadata": {},
   "source": [
    "We can see that the optimal threshold has improved the recall of the tuned logistic regression model from 0.63949 to 0.0.76268. "
   ]
  },
  {
   "cell_type": "markdown",
   "metadata": {},
   "source": [
    "<h2> Evaluation</h2>"
   ]
  },
  {
   "cell_type": "markdown",
   "metadata": {},
   "source": [
    "<h5> Table of performance scores for both logistic regression models</h5>\n",
    "\n",
    "| Models                                                | Accuracy | Precision | Recall  | F1 Score |\n",
    "|-------------------------------------------------------|:--------:|:---------:|:-------:|:--------:|\n",
    "| Basic MLP model with optimal threshold                | 0.53732  | 0.21683   | 0.76087 | 0.33748  | \n",
    "| Hyperparametre-tuned MLP model with optimal threshold | 0.31762  | 0.17316   | 0.90217 | 0.29055  | <br><br>"
   ]
  },
  {
   "cell_type": "markdown",
   "metadata": {},
   "source": [
    "From the above performance scores, we can see that hyperparameter tuning led to improvement in recall score of MLP model without compromising accuracy, precision and f1 too much. <br><br>\n",
    "The highest recall achieved from MLP is 0.90217. We will use this recall score to evaluate neural networks against other models. "
   ]
  }
 ],
 "metadata": {
  "kernelspec": {
   "display_name": "Python 3 (ipykernel)",
   "language": "python",
   "name": "python3"
  },
  "language_info": {
   "codemirror_mode": {
    "name": "ipython",
    "version": 3
   },
   "file_extension": ".py",
   "mimetype": "text/x-python",
   "name": "python",
   "nbconvert_exporter": "python",
   "pygments_lexer": "ipython3",
   "version": "3.9.6"
  }
 },
 "nbformat": 4,
 "nbformat_minor": 2
}
